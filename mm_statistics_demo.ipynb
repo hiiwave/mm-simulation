{
 "cells": [
  {
   "cell_type": "markdown",
   "metadata": {},
   "source": [
    "# m&m color simulation"
   ]
  },
  {
   "cell_type": "code",
   "execution_count": 36,
   "metadata": {
    "collapsed": false
   },
   "outputs": [],
   "source": [
    "import numpy as np\n",
    "import random as rand\n",
    "import pandas as pd\n",
    "import matplotlib.pyplot as plt\n",
    "%matplotlib inline"
   ]
  },
  {
   "cell_type": "markdown",
   "metadata": {},
   "source": [
    "### Random draw sample from $\\pi_i$\n",
    "Simulate N chocolates with K colors and distribution pi for T times"
   ]
  },
  {
   "cell_type": "code",
   "execution_count": 65,
   "metadata": {
    "collapsed": false,
    "scrolled": true
   },
   "outputs": [
    {
     "data": {
      "text/html": [
       "<div>\n",
       "<table border=\"1\" class=\"dataframe\">\n",
       "  <thead>\n",
       "    <tr style=\"text-align: right;\">\n",
       "      <th></th>\n",
       "      <th>0</th>\n",
       "      <th>1</th>\n",
       "      <th>2</th>\n",
       "      <th>3</th>\n",
       "      <th>4</th>\n",
       "      <th>5</th>\n",
       "    </tr>\n",
       "  </thead>\n",
       "  <tbody>\n",
       "    <tr>\n",
       "      <th>count</th>\n",
       "      <td>500.000000</td>\n",
       "      <td>500.000000</td>\n",
       "      <td>500.000000</td>\n",
       "      <td>500.000000</td>\n",
       "      <td>500.000000</td>\n",
       "      <td>500.000000</td>\n",
       "    </tr>\n",
       "    <tr>\n",
       "      <th>mean</th>\n",
       "      <td>0.249975</td>\n",
       "      <td>0.250104</td>\n",
       "      <td>0.124575</td>\n",
       "      <td>0.124892</td>\n",
       "      <td>0.125141</td>\n",
       "      <td>0.125312</td>\n",
       "    </tr>\n",
       "    <tr>\n",
       "      <th>std</th>\n",
       "      <td>0.011448</td>\n",
       "      <td>0.011510</td>\n",
       "      <td>0.008364</td>\n",
       "      <td>0.008739</td>\n",
       "      <td>0.008899</td>\n",
       "      <td>0.008828</td>\n",
       "    </tr>\n",
       "    <tr>\n",
       "      <th>min</th>\n",
       "      <td>0.207754</td>\n",
       "      <td>0.207023</td>\n",
       "      <td>0.100951</td>\n",
       "      <td>0.101683</td>\n",
       "      <td>0.100219</td>\n",
       "      <td>0.095830</td>\n",
       "    </tr>\n",
       "    <tr>\n",
       "      <th>25%</th>\n",
       "      <td>0.242136</td>\n",
       "      <td>0.242136</td>\n",
       "      <td>0.119239</td>\n",
       "      <td>0.119239</td>\n",
       "      <td>0.119239</td>\n",
       "      <td>0.119239</td>\n",
       "    </tr>\n",
       "    <tr>\n",
       "      <th>50%</th>\n",
       "      <td>0.250183</td>\n",
       "      <td>0.249451</td>\n",
       "      <td>0.124360</td>\n",
       "      <td>0.124360</td>\n",
       "      <td>0.125091</td>\n",
       "      <td>0.125091</td>\n",
       "    </tr>\n",
       "    <tr>\n",
       "      <th>75%</th>\n",
       "      <td>0.257498</td>\n",
       "      <td>0.258230</td>\n",
       "      <td>0.130212</td>\n",
       "      <td>0.130212</td>\n",
       "      <td>0.130944</td>\n",
       "      <td>0.130944</td>\n",
       "    </tr>\n",
       "    <tr>\n",
       "      <th>max</th>\n",
       "      <td>0.283102</td>\n",
       "      <td>0.282370</td>\n",
       "      <td>0.154353</td>\n",
       "      <td>0.155084</td>\n",
       "      <td>0.148500</td>\n",
       "      <td>0.155084</td>\n",
       "    </tr>\n",
       "  </tbody>\n",
       "</table>\n",
       "</div>"
      ],
      "text/plain": [
       "                0           1           2           3           4           5\n",
       "count  500.000000  500.000000  500.000000  500.000000  500.000000  500.000000\n",
       "mean     0.249975    0.250104    0.124575    0.124892    0.125141    0.125312\n",
       "std      0.011448    0.011510    0.008364    0.008739    0.008899    0.008828\n",
       "min      0.207754    0.207023    0.100951    0.101683    0.100219    0.095830\n",
       "25%      0.242136    0.242136    0.119239    0.119239    0.119239    0.119239\n",
       "50%      0.250183    0.249451    0.124360    0.124360    0.125091    0.125091\n",
       "75%      0.257498    0.258230    0.130212    0.130212    0.130944    0.130944\n",
       "max      0.283102    0.282370    0.154353    0.155084    0.148500    0.155084"
      ]
     },
     "execution_count": 65,
     "metadata": {},
     "output_type": "execute_result"
    }
   ],
   "source": [
    "def create_sample(N, K, pi, T):\n",
    "    A = np.zeros((T, K))\n",
    "    for t in range(T):\n",
    "        X = np.random.choice(K, N, p=pi)\n",
    "        for x in X:\n",
    "            A[t, x] += 1\n",
    "    return A / N\n",
    "pi = [0.25, 0.25, 0.125, 0.125, 0.125, 0.125]\n",
    "A = create_sample(1367, 6, pi, 500)\n",
    "pd.DataFrame(A).describe()"
   ]
  },
  {
   "cell_type": "markdown",
   "metadata": {},
   "source": [
    "### Draw Figure\n",
    "Simulation result is shown as box diagram, and experimental values are shown as red points"
   ]
  },
  {
   "cell_type": "code",
   "execution_count": 69,
   "metadata": {
    "collapsed": false
   },
   "outputs": [
    {
     "data": {
      "image/png": "[encoded data removed]",
      "text/plain": [
       "<matplotlib.figure.Figure at 0x7f1649526eb8>"
      ]
     },
     "metadata": {},
     "output_type": "display_data"
    }
   ],
   "source": [
    "plt.boxplot(A)\n",
    "p = np.array([0, 20.2, 21.1, 15.9, 15.5, 15.5, 11.7]) / 100.\n",
    "plt.plot(p, \"ro\")\n",
    "plt.show()"
   ]
  },
  {
   "cell_type": "code",
   "execution_count": null,
   "metadata": {
    "collapsed": true
   },
   "outputs": [],
   "source": []
  }
 ],
 "metadata": {
  "anaconda-cloud": {},
  "kernelspec": {
   "display_name": "Python [conda env:tensor3]",
   "language": "python",
   "name": "conda-env-tensor3-py"
  },
  "language_info": {
   "codemirror_mode": {
    "name": "ipython",
    "version": 3
   },
   "file_extension": ".py",
   "mimetype": "text/x-python",
   "name": "python",
   "nbconvert_exporter": "python",
   "pygments_lexer": "ipython3",
   "version": "3.5.2"
  }
 },
 "nbformat": 4,
 "nbformat_minor": 1
}
