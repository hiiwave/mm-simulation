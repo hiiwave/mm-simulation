{
 "cells": [
  {
   "cell_type": "markdown",
   "metadata": {},
   "source": [
    "# m&m color simulation"
   ]
  },
  {
   "cell_type": "code",
   "execution_count": 1,
   "metadata": {
    "collapsed": false
   },
   "outputs": [],
   "source": [
    "import numpy as np\n",
    "import random as rand\n",
    "import pandas as pd\n",
    "import matplotlib.pyplot as plt\n",
    "%matplotlib inline"
   ]
  },
  {
   "cell_type": "markdown",
   "metadata": {},
   "source": [
    "### Randomly draw sample from $\\pi_i$\n",
    "Simulate N chocolates with K colors and distribution pi for T times"
   ]
  },
  {
   "cell_type": "code",
   "execution_count": 2,
   "metadata": {
    "collapsed": false,
    "scrolled": true
   },
   "outputs": [
    {
     "data": {
      "text/html": [
       "<div>\n",
       "<table border=\"1\" class=\"dataframe\">\n",
       "  <thead>\n",
       "    <tr style=\"text-align: right;\">\n",
       "      <th></th>\n",
       "      <th>0</th>\n",
       "      <th>1</th>\n",
       "      <th>2</th>\n",
       "      <th>3</th>\n",
       "      <th>4</th>\n",
       "      <th>5</th>\n",
       "    </tr>\n",
       "  </thead>\n",
       "  <tbody>\n",
       "    <tr>\n",
       "      <th>count</th>\n",
       "      <td>500.000000</td>\n",
       "      <td>500.000000</td>\n",
       "      <td>500.000000</td>\n",
       "      <td>500.000000</td>\n",
       "      <td>500.000000</td>\n",
       "      <td>500.000000</td>\n",
       "    </tr>\n",
       "    <tr>\n",
       "      <th>mean</th>\n",
       "      <td>0.250140</td>\n",
       "      <td>0.249403</td>\n",
       "      <td>0.125093</td>\n",
       "      <td>0.125010</td>\n",
       "      <td>0.125279</td>\n",
       "      <td>0.125075</td>\n",
       "    </tr>\n",
       "    <tr>\n",
       "      <th>std</th>\n",
       "      <td>0.011933</td>\n",
       "      <td>0.011651</td>\n",
       "      <td>0.009661</td>\n",
       "      <td>0.008765</td>\n",
       "      <td>0.008667</td>\n",
       "      <td>0.008955</td>\n",
       "    </tr>\n",
       "    <tr>\n",
       "      <th>min</th>\n",
       "      <td>0.213606</td>\n",
       "      <td>0.210680</td>\n",
       "      <td>0.100219</td>\n",
       "      <td>0.099488</td>\n",
       "      <td>0.101683</td>\n",
       "      <td>0.098756</td>\n",
       "    </tr>\n",
       "    <tr>\n",
       "      <th>25%</th>\n",
       "      <td>0.241405</td>\n",
       "      <td>0.242136</td>\n",
       "      <td>0.119056</td>\n",
       "      <td>0.119239</td>\n",
       "      <td>0.119788</td>\n",
       "      <td>0.119239</td>\n",
       "    </tr>\n",
       "    <tr>\n",
       "      <th>50%</th>\n",
       "      <td>0.249451</td>\n",
       "      <td>0.248720</td>\n",
       "      <td>0.125091</td>\n",
       "      <td>0.125091</td>\n",
       "      <td>0.125091</td>\n",
       "      <td>0.125091</td>\n",
       "    </tr>\n",
       "    <tr>\n",
       "      <th>75%</th>\n",
       "      <td>0.258230</td>\n",
       "      <td>0.256767</td>\n",
       "      <td>0.131675</td>\n",
       "      <td>0.130944</td>\n",
       "      <td>0.130944</td>\n",
       "      <td>0.130944</td>\n",
       "    </tr>\n",
       "    <tr>\n",
       "      <th>max</th>\n",
       "      <td>0.288222</td>\n",
       "      <td>0.290417</td>\n",
       "      <td>0.152890</td>\n",
       "      <td>0.150695</td>\n",
       "      <td>0.148500</td>\n",
       "      <td>0.152158</td>\n",
       "    </tr>\n",
       "  </tbody>\n",
       "</table>\n",
       "</div>"
      ],
      "text/plain": [
       "                0           1           2           3           4           5\n",
       "count  500.000000  500.000000  500.000000  500.000000  500.000000  500.000000\n",
       "mean     0.250140    0.249403    0.125093    0.125010    0.125279    0.125075\n",
       "std      0.011933    0.011651    0.009661    0.008765    0.008667    0.008955\n",
       "min      0.213606    0.210680    0.100219    0.099488    0.101683    0.098756\n",
       "25%      0.241405    0.242136    0.119056    0.119239    0.119788    0.119239\n",
       "50%      0.249451    0.248720    0.125091    0.125091    0.125091    0.125091\n",
       "75%      0.258230    0.256767    0.131675    0.130944    0.130944    0.130944\n",
       "max      0.288222    0.290417    0.152890    0.150695    0.148500    0.152158"
      ]
     },
     "execution_count": 2,
     "metadata": {},
     "output_type": "execute_result"
    }
   ],
   "source": [
    "def create_sample(N, K, pi, T):\n",
    "    A = np.zeros((T, K))\n",
    "    for t in range(T):\n",
    "        X = np.random.choice(K, N, p=pi)\n",
    "        for x in X:\n",
    "            A[t, x] += 1\n",
    "    return A / N\n",
    "pi = [0.25, 0.25, 0.125, 0.125, 0.125, 0.125]\n",
    "A = create_sample(1367, 6, pi, 500)\n",
    "pd.DataFrame(A).describe()"
   ]
  },
  {
   "cell_type": "markdown",
   "metadata": {},
   "source": [
    "### Draw Figure\n",
    "Simulation result is shown as box diagram, and experimental values are shown as red points"
   ]
  },
  {
   "cell_type": "code",
   "execution_count": 3,
   "metadata": {
    "collapsed": false
   },
   "outputs": [
    {
     "data": {
      "image/png": "[encoded data removed]",
      "text/plain": [
       "<matplotlib.figure.Figure at 0x7faaf828e898>"
      ]
     },
     "metadata": {},
     "output_type": "display_data"
    }
   ],
   "source": [
    "plt.boxplot(A)\n",
    "p = np.array([0, 20.2, 21.1, 15.9, 15.5, 15.5, 11.7]) / 100.\n",
    "plt.plot(p, \"ro\")\n",
    "plt.show()"
   ]
  }
 ],
 "metadata": {
  "anaconda-cloud": {},
  "kernelspec": {
   "display_name": "Python [conda env:tensor3]",
   "language": "python",
   "name": "conda-env-tensor3-py"
  },
  "language_info": {
   "codemirror_mode": {
    "name": "ipython",
    "version": 3
   },
   "file_extension": ".py",
   "mimetype": "text/x-python",
   "name": "python",
   "nbconvert_exporter": "python",
   "pygments_lexer": "ipython3",
   "version": "3.5.2"
  }
 },
 "nbformat": 4,
 "nbformat_minor": 1
}
